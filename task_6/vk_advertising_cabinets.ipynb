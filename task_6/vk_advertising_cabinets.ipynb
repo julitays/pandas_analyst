{
 "cells": [
  {
   "cell_type": "markdown",
   "id": "a15095ad",
   "metadata": {},
   "source": [
    "Перед вами данные взаимодействий с рекламными объявлениями на VK площадке за 6 дней. \n",
    "И таблица с характеристиками рекламных клиентов (те, кто разместил эти объявления).\n",
    "\n",
    "#### ads_data.csv – данные взаимодействий с рекламными объявлениями\n",
    "- date – дата\n",
    "- time – время\n",
    "- event – действие (просмотр/клик)\n",
    "- platform – платформа\n",
    "- ad_id – id объявления\n",
    "- client_union_id – id рекламного кабинета\n",
    "- campaign_union_id – id рекламной кампании\n",
    "- ad_cost_type – тип оплаты\n",
    "- ad_cost – цена\n",
    "- has_video – есть ли видео\n",
    "- target_audience_count – размер аудитории\n",
    "\n",
    "#### ads_clients_data.csv – характеристики рекламных клиентов\n",
    "- date – дата\n",
    "- client_union_id – id рекламного кабинета\n",
    "- community_id – id сообщества\n",
    "- create_date – дата создания рекламного клиента\n",
    "\n",
    "\n",
    "### Задачи:\n",
    "\n",
    "\n",
    "- Посчитайте среднее количество показов и среднее количество кликов на объявления за весь период;\n",
    "- Нарисуйте график распределения показов на объявление за весь период;\n",
    "- Посчитать скользящее среднее показов с окном 2. Какое значение скользящего среднего получим за 6 апреля 2019 года?\n",
    "- Поиск аномалий в данных;\n",
    "- Найти среднее количество дней от даты создания рекламного клиента и первым запуском рекламного объявления этим клиентом;\n",
    "- Определите, сколько уникальных клиентов запустили свое первое объявление в первый месяц своего существования (от 0 до 30 дней)."
   ]
  },
  {
   "cell_type": "code",
   "execution_count": null,
   "id": "75272d45",
   "metadata": {},
   "outputs": [],
   "source": []
  },
  {
   "cell_type": "code",
   "execution_count": null,
   "id": "7b23e900",
   "metadata": {},
   "outputs": [],
   "source": []
  },
  {
   "cell_type": "code",
   "execution_count": null,
   "id": "483aaac7",
   "metadata": {},
   "outputs": [],
   "source": []
  },
  {
   "cell_type": "code",
   "execution_count": null,
   "id": "73e1bfb2",
   "metadata": {},
   "outputs": [],
   "source": []
  },
  {
   "cell_type": "code",
   "execution_count": null,
   "id": "551db30d",
   "metadata": {},
   "outputs": [],
   "source": []
  },
  {
   "cell_type": "code",
   "execution_count": 145,
   "id": "ae632199",
   "metadata": {},
   "outputs": [],
   "source": [
    "import pandas as pd\n",
    "import seaborn as sns\n",
    "import matplotlib.pyplot as plt\n",
    "import numpy as np\n",
    "import plotly.express as px\n",
    "\n",
    "%matplotlib inline"
   ]
  },
  {
   "cell_type": "code",
   "execution_count": 29,
   "id": "fb1384fb",
   "metadata": {},
   "outputs": [],
   "source": [
    "sns.set (\n",
    "        font_scale = 2,\n",
    "        style      = 'whitegrid',\n",
    "        rc         = {'figure.figsize':(20,7)},\n",
    "        palette    = 'plasma')"
   ]
  },
  {
   "cell_type": "code",
   "execution_count": 4,
   "id": "72e760a6",
   "metadata": {},
   "outputs": [],
   "source": [
    "ads_clients_data = pd.read_csv('ads_clients_data.csv', parse_dates=['create_date'])"
   ]
  },
  {
   "cell_type": "code",
   "execution_count": 5,
   "id": "6514aa33",
   "metadata": {},
   "outputs": [],
   "source": [
    "ads_data = pd.read_csv('ads_data.csv', parse_dates=['date', 'time'])"
   ]
  },
  {
   "cell_type": "code",
   "execution_count": 6,
   "id": "0c64d188",
   "metadata": {},
   "outputs": [
    {
     "data": {
      "text/html": [
       "<div>\n",
       "<style scoped>\n",
       "    .dataframe tbody tr th:only-of-type {\n",
       "        vertical-align: middle;\n",
       "    }\n",
       "\n",
       "    .dataframe tbody tr th {\n",
       "        vertical-align: top;\n",
       "    }\n",
       "\n",
       "    .dataframe thead th {\n",
       "        text-align: right;\n",
       "    }\n",
       "</style>\n",
       "<table border=\"1\" class=\"dataframe\">\n",
       "  <thead>\n",
       "    <tr style=\"text-align: right;\">\n",
       "      <th></th>\n",
       "      <th>date</th>\n",
       "      <th>client_union_id</th>\n",
       "      <th>community_id</th>\n",
       "      <th>create_date</th>\n",
       "    </tr>\n",
       "  </thead>\n",
       "  <tbody>\n",
       "    <tr>\n",
       "      <th>0</th>\n",
       "      <td>2020-05-07</td>\n",
       "      <td>1</td>\n",
       "      <td>-130371893</td>\n",
       "      <td>2018-12-24</td>\n",
       "    </tr>\n",
       "    <tr>\n",
       "      <th>1</th>\n",
       "      <td>2020-05-07</td>\n",
       "      <td>2</td>\n",
       "      <td>-130304626</td>\n",
       "      <td>2019-02-10</td>\n",
       "    </tr>\n",
       "    <tr>\n",
       "      <th>2</th>\n",
       "      <td>2020-05-07</td>\n",
       "      <td>3</td>\n",
       "      <td>-130462599</td>\n",
       "      <td>2019-01-25</td>\n",
       "    </tr>\n",
       "    <tr>\n",
       "      <th>3</th>\n",
       "      <td>2020-05-07</td>\n",
       "      <td>4</td>\n",
       "      <td>-130574300</td>\n",
       "      <td>2018-12-09</td>\n",
       "    </tr>\n",
       "    <tr>\n",
       "      <th>4</th>\n",
       "      <td>2020-05-07</td>\n",
       "      <td>5</td>\n",
       "      <td>-130292358</td>\n",
       "      <td>2019-01-08</td>\n",
       "    </tr>\n",
       "  </tbody>\n",
       "</table>\n",
       "</div>"
      ],
      "text/plain": [
       "         date  client_union_id  community_id create_date\n",
       "0  2020-05-07                1    -130371893  2018-12-24\n",
       "1  2020-05-07                2    -130304626  2019-02-10\n",
       "2  2020-05-07                3    -130462599  2019-01-25\n",
       "3  2020-05-07                4    -130574300  2018-12-09\n",
       "4  2020-05-07                5    -130292358  2019-01-08"
      ]
     },
     "execution_count": 6,
     "metadata": {},
     "output_type": "execute_result"
    }
   ],
   "source": [
    "ads_clients_data.head()"
   ]
  },
  {
   "cell_type": "code",
   "execution_count": 7,
   "id": "4610f4ef",
   "metadata": {},
   "outputs": [
    {
     "data": {
      "text/html": [
       "<div>\n",
       "<style scoped>\n",
       "    .dataframe tbody tr th:only-of-type {\n",
       "        vertical-align: middle;\n",
       "    }\n",
       "\n",
       "    .dataframe tbody tr th {\n",
       "        vertical-align: top;\n",
       "    }\n",
       "\n",
       "    .dataframe thead th {\n",
       "        text-align: right;\n",
       "    }\n",
       "</style>\n",
       "<table border=\"1\" class=\"dataframe\">\n",
       "  <thead>\n",
       "    <tr style=\"text-align: right;\">\n",
       "      <th></th>\n",
       "      <th>date</th>\n",
       "      <th>time</th>\n",
       "      <th>event</th>\n",
       "      <th>platform</th>\n",
       "      <th>ad_id</th>\n",
       "      <th>client_union_id</th>\n",
       "      <th>campaign_union_id</th>\n",
       "      <th>ad_cost_type</th>\n",
       "      <th>ad_cost</th>\n",
       "      <th>has_video</th>\n",
       "      <th>target_audience_count</th>\n",
       "    </tr>\n",
       "  </thead>\n",
       "  <tbody>\n",
       "    <tr>\n",
       "      <th>0</th>\n",
       "      <td>2019-04-01</td>\n",
       "      <td>2019-04-01 00:00:48</td>\n",
       "      <td>view</td>\n",
       "      <td>android</td>\n",
       "      <td>45061</td>\n",
       "      <td>34734</td>\n",
       "      <td>45061</td>\n",
       "      <td>CPM</td>\n",
       "      <td>200.6</td>\n",
       "      <td>0</td>\n",
       "      <td>1955269</td>\n",
       "    </tr>\n",
       "    <tr>\n",
       "      <th>1</th>\n",
       "      <td>2019-04-01</td>\n",
       "      <td>2019-04-01 00:00:48</td>\n",
       "      <td>view</td>\n",
       "      <td>web</td>\n",
       "      <td>121288</td>\n",
       "      <td>121288</td>\n",
       "      <td>121288</td>\n",
       "      <td>CPM</td>\n",
       "      <td>187.4</td>\n",
       "      <td>0</td>\n",
       "      <td>232011</td>\n",
       "    </tr>\n",
       "    <tr>\n",
       "      <th>2</th>\n",
       "      <td>2019-04-01</td>\n",
       "      <td>2019-04-01 00:01:03</td>\n",
       "      <td>view</td>\n",
       "      <td>android</td>\n",
       "      <td>102737</td>\n",
       "      <td>102535</td>\n",
       "      <td>102564</td>\n",
       "      <td>CPC</td>\n",
       "      <td>60.7</td>\n",
       "      <td>0</td>\n",
       "      <td>4410</td>\n",
       "    </tr>\n",
       "    <tr>\n",
       "      <th>3</th>\n",
       "      <td>2019-04-01</td>\n",
       "      <td>2019-04-01 00:01:03</td>\n",
       "      <td>view</td>\n",
       "      <td>android</td>\n",
       "      <td>107564</td>\n",
       "      <td>106914</td>\n",
       "      <td>107564</td>\n",
       "      <td>CPM</td>\n",
       "      <td>217.3</td>\n",
       "      <td>0</td>\n",
       "      <td>62711</td>\n",
       "    </tr>\n",
       "    <tr>\n",
       "      <th>4</th>\n",
       "      <td>2019-04-01</td>\n",
       "      <td>2019-04-01 00:01:09</td>\n",
       "      <td>view</td>\n",
       "      <td>android</td>\n",
       "      <td>4922</td>\n",
       "      <td>37</td>\n",
       "      <td>4400</td>\n",
       "      <td>CPC</td>\n",
       "      <td>60.1</td>\n",
       "      <td>0</td>\n",
       "      <td>1183501</td>\n",
       "    </tr>\n",
       "  </tbody>\n",
       "</table>\n",
       "</div>"
      ],
      "text/plain": [
       "        date                time event platform   ad_id  client_union_id  \\\n",
       "0 2019-04-01 2019-04-01 00:00:48  view  android   45061            34734   \n",
       "1 2019-04-01 2019-04-01 00:00:48  view      web  121288           121288   \n",
       "2 2019-04-01 2019-04-01 00:01:03  view  android  102737           102535   \n",
       "3 2019-04-01 2019-04-01 00:01:03  view  android  107564           106914   \n",
       "4 2019-04-01 2019-04-01 00:01:09  view  android    4922               37   \n",
       "\n",
       "   campaign_union_id ad_cost_type  ad_cost  has_video  target_audience_count  \n",
       "0              45061          CPM    200.6          0                1955269  \n",
       "1             121288          CPM    187.4          0                 232011  \n",
       "2             102564          CPC     60.7          0                   4410  \n",
       "3             107564          CPM    217.3          0                  62711  \n",
       "4               4400          CPC     60.1          0                1183501  "
      ]
     },
     "execution_count": 7,
     "metadata": {},
     "output_type": "execute_result"
    }
   ],
   "source": [
    "ads_data.head()"
   ]
  },
  {
   "cell_type": "markdown",
   "id": "edcd3e50",
   "metadata": {},
   "source": [
    "#### Посчитайте среднее количество показов и среднее количество кликов на объявления за весь период."
   ]
  },
  {
   "cell_type": "code",
   "execution_count": 8,
   "id": "b13e6994",
   "metadata": {},
   "outputs": [],
   "source": [
    "event_number = ads_data.groupby(['ad_id', 'event'], as_index=False) \\\n",
    "                       .agg({'time':'count'}) \\\n",
    "                       .rename(columns={'time':'event_number'})"
   ]
  },
  {
   "cell_type": "code",
   "execution_count": 9,
   "id": "a1b64567",
   "metadata": {},
   "outputs": [],
   "source": [
    "pivot_event_number = event_number.pivot(index='ad_id', \n",
    "                                        columns='event', \n",
    "                                        values='event_number') \\\n",
    "                                        .fillna(0)"
   ]
  },
  {
   "cell_type": "code",
   "execution_count": 10,
   "id": "80bbe999",
   "metadata": {},
   "outputs": [
    {
     "data": {
      "text/plain": [
       "event\n",
       "click    113.0\n",
       "view     923.0\n",
       "dtype: float64"
      ]
     },
     "execution_count": 10,
     "metadata": {},
     "output_type": "execute_result"
    }
   ],
   "source": [
    "mean_clicks_views = pivot_event_number.mean() \\\n",
    "                                      .round()\n",
    "\n",
    "mean_clicks_views"
   ]
  },
  {
   "cell_type": "markdown",
   "id": "d275be9b",
   "metadata": {},
   "source": [
    "#### Нарисуйте график распределения показов на объявление за весь период."
   ]
  },
  {
   "cell_type": "code",
   "execution_count": 11,
   "id": "65f9b6d3",
   "metadata": {},
   "outputs": [
    {
     "data": {
      "text/html": [
       "<div>\n",
       "<style scoped>\n",
       "    .dataframe tbody tr th:only-of-type {\n",
       "        vertical-align: middle;\n",
       "    }\n",
       "\n",
       "    .dataframe tbody tr th {\n",
       "        vertical-align: top;\n",
       "    }\n",
       "\n",
       "    .dataframe thead th {\n",
       "        text-align: right;\n",
       "    }\n",
       "</style>\n",
       "<table border=\"1\" class=\"dataframe\">\n",
       "  <thead>\n",
       "    <tr style=\"text-align: right;\">\n",
       "      <th></th>\n",
       "      <th>ad_id</th>\n",
       "      <th>event</th>\n",
       "      <th>event_number</th>\n",
       "    </tr>\n",
       "  </thead>\n",
       "  <tbody>\n",
       "    <tr>\n",
       "      <th>1</th>\n",
       "      <td>2</td>\n",
       "      <td>view</td>\n",
       "      <td>101</td>\n",
       "    </tr>\n",
       "    <tr>\n",
       "      <th>3</th>\n",
       "      <td>3</td>\n",
       "      <td>view</td>\n",
       "      <td>184</td>\n",
       "    </tr>\n",
       "    <tr>\n",
       "      <th>5</th>\n",
       "      <td>1902</td>\n",
       "      <td>view</td>\n",
       "      <td>41</td>\n",
       "    </tr>\n",
       "    <tr>\n",
       "      <th>6</th>\n",
       "      <td>2064</td>\n",
       "      <td>view</td>\n",
       "      <td>35</td>\n",
       "    </tr>\n",
       "    <tr>\n",
       "      <th>8</th>\n",
       "      <td>2132</td>\n",
       "      <td>view</td>\n",
       "      <td>58</td>\n",
       "    </tr>\n",
       "  </tbody>\n",
       "</table>\n",
       "</div>"
      ],
      "text/plain": [
       "   ad_id event  event_number\n",
       "1      2  view           101\n",
       "3      3  view           184\n",
       "5   1902  view            41\n",
       "6   2064  view            35\n",
       "8   2132  view            58"
      ]
     },
     "execution_count": 11,
     "metadata": {},
     "output_type": "execute_result"
    }
   ],
   "source": [
    "views_count = event_number.query('event == \"view\"')\n",
    "views_count.head()"
   ]
  },
  {
   "cell_type": "code",
   "execution_count": 32,
   "id": "6311b23f",
   "metadata": {},
   "outputs": [
    {
     "name": "stderr",
     "output_type": "stream",
     "text": [
      "C:\\Users\\Юлия\\AppData\\Local\\Temp\\ipykernel_14200\\971472696.py:1: UserWarning: \n",
      "\n",
      "`distplot` is a deprecated function and will be removed in seaborn v0.14.0.\n",
      "\n",
      "Please adapt your code to use either `displot` (a figure-level function with\n",
      "similar flexibility) or `histplot` (an axes-level function for histograms).\n",
      "\n",
      "For a guide to updating your code to use the new functions, please see\n",
      "https://gist.github.com/mwaskom/de44147ed2974457ad6372750bbe5751\n",
      "\n",
      "  sns.distplot(views_count['event_number'], kde=True);\n"
     ]
    },
    {
     "data": {
      "image/png": "[encoded data removed]",
      "text/plain": [
       "<Figure size 2000x700 with 1 Axes>"
      ]
     },
     "metadata": {},
     "output_type": "display_data"
    }
   ],
   "source": [
    "sns.distplot(views_count['event_number'], kde=True);"
   ]
  },
  {
   "cell_type": "code",
   "execution_count": 13,
   "id": "39330bce",
   "metadata": {},
   "outputs": [
    {
     "data": {
      "text/plain": [
       "1221"
      ]
     },
     "execution_count": 13,
     "metadata": {},
     "output_type": "execute_result"
    }
   ],
   "source": [
    "views_count.event_number.idxmax()\n",
    "# id с самой масштабной рекламой по показам"
   ]
  },
  {
   "cell_type": "code",
   "execution_count": 14,
   "id": "b49351e3",
   "metadata": {},
   "outputs": [
    {
     "data": {
      "text/html": [
       "<div>\n",
       "<style scoped>\n",
       "    .dataframe tbody tr th:only-of-type {\n",
       "        vertical-align: middle;\n",
       "    }\n",
       "\n",
       "    .dataframe tbody tr th {\n",
       "        vertical-align: top;\n",
       "    }\n",
       "\n",
       "    .dataframe thead th {\n",
       "        text-align: right;\n",
       "    }\n",
       "</style>\n",
       "<table border=\"1\" class=\"dataframe\">\n",
       "  <thead>\n",
       "    <tr style=\"text-align: right;\">\n",
       "      <th></th>\n",
       "      <th>ad_id</th>\n",
       "      <th>event_number</th>\n",
       "    </tr>\n",
       "  </thead>\n",
       "  <tbody>\n",
       "    <tr>\n",
       "      <th>count</th>\n",
       "      <td>956.000000</td>\n",
       "      <td>956.000000</td>\n",
       "    </tr>\n",
       "    <tr>\n",
       "      <th>mean</th>\n",
       "      <td>57756.006276</td>\n",
       "      <td>931.822176</td>\n",
       "    </tr>\n",
       "    <tr>\n",
       "      <th>std</th>\n",
       "      <td>38701.096189</td>\n",
       "      <td>13006.492754</td>\n",
       "    </tr>\n",
       "    <tr>\n",
       "      <th>min</th>\n",
       "      <td>2.000000</td>\n",
       "      <td>10.000000</td>\n",
       "    </tr>\n",
       "    <tr>\n",
       "      <th>25%</th>\n",
       "      <td>29747.750000</td>\n",
       "      <td>36.000000</td>\n",
       "    </tr>\n",
       "    <tr>\n",
       "      <th>50%</th>\n",
       "      <td>43146.500000</td>\n",
       "      <td>84.000000</td>\n",
       "    </tr>\n",
       "    <tr>\n",
       "      <th>75%</th>\n",
       "      <td>107173.000000</td>\n",
       "      <td>209.250000</td>\n",
       "    </tr>\n",
       "    <tr>\n",
       "      <th>max</th>\n",
       "      <td>122078.000000</td>\n",
       "      <td>351802.000000</td>\n",
       "    </tr>\n",
       "  </tbody>\n",
       "</table>\n",
       "</div>"
      ],
      "text/plain": [
       "               ad_id   event_number\n",
       "count     956.000000     956.000000\n",
       "mean    57756.006276     931.822176\n",
       "std     38701.096189   13006.492754\n",
       "min         2.000000      10.000000\n",
       "25%     29747.750000      36.000000\n",
       "50%     43146.500000      84.000000\n",
       "75%    107173.000000     209.250000\n",
       "max    122078.000000  351802.000000"
      ]
     },
     "execution_count": 14,
     "metadata": {},
     "output_type": "execute_result"
    }
   ],
   "source": [
    "views_count.describe()"
   ]
  },
  {
   "cell_type": "code",
   "execution_count": 15,
   "id": "f4ff13f7",
   "metadata": {},
   "outputs": [],
   "source": [
    "# сделаем логарифмирование данных \n",
    "views_count = views_count.assign(log_views = np.log(views_count['event_number']))"
   ]
  },
  {
   "cell_type": "code",
   "execution_count": 30,
   "id": "8c50e3b6",
   "metadata": {},
   "outputs": [
    {
     "data": {
      "image/png": "[encoded data removed]",
      "text/plain": [
       "<Figure size 2000x700 with 1 Axes>"
      ]
     },
     "metadata": {},
     "output_type": "display_data"
    }
   ],
   "source": [
    "sns.histplot(views_count['log_views'], kde=True);"
   ]
  },
  {
   "cell_type": "markdown",
   "id": "0e723ad7",
   "metadata": {},
   "source": [
    "#### Посчитать скользящее среднее показов с окном 2. Какое значение скользящего среднего получим за 6 апреля 2019 года?"
   ]
  },
  {
   "cell_type": "code",
   "execution_count": 17,
   "id": "ef18e879",
   "metadata": {},
   "outputs": [],
   "source": [
    "ads_view = ads_data.query('event == \"view\"') \\\n",
    "                   .pivot_table(index    = 'ad_id',\n",
    "                                 columns = 'date',\n",
    "                                 values  = 'time',\n",
    "                                 aggfunc = 'count')"
   ]
  },
  {
   "cell_type": "code",
   "execution_count": 84,
   "id": "3914b96e",
   "metadata": {},
   "outputs": [
    {
     "data": {
      "text/html": [
       "<div>\n",
       "<style scoped>\n",
       "    .dataframe tbody tr th:only-of-type {\n",
       "        vertical-align: middle;\n",
       "    }\n",
       "\n",
       "    .dataframe tbody tr th {\n",
       "        vertical-align: top;\n",
       "    }\n",
       "\n",
       "    .dataframe thead th {\n",
       "        text-align: right;\n",
       "    }\n",
       "</style>\n",
       "<table border=\"1\" class=\"dataframe\">\n",
       "  <thead>\n",
       "    <tr style=\"text-align: right;\">\n",
       "      <th>date</th>\n",
       "      <th>2019-04-01</th>\n",
       "      <th>2019-04-02</th>\n",
       "      <th>2019-04-03</th>\n",
       "      <th>2019-04-04</th>\n",
       "      <th>2019-04-05</th>\n",
       "      <th>2019-04-06</th>\n",
       "    </tr>\n",
       "    <tr>\n",
       "      <th>ad_id</th>\n",
       "      <th></th>\n",
       "      <th></th>\n",
       "      <th></th>\n",
       "      <th></th>\n",
       "      <th></th>\n",
       "      <th></th>\n",
       "    </tr>\n",
       "  </thead>\n",
       "  <tbody>\n",
       "    <tr>\n",
       "      <th>2</th>\n",
       "      <td>83.0</td>\n",
       "      <td>18.0</td>\n",
       "      <td>NaN</td>\n",
       "      <td>NaN</td>\n",
       "      <td>NaN</td>\n",
       "      <td>NaN</td>\n",
       "    </tr>\n",
       "    <tr>\n",
       "      <th>3</th>\n",
       "      <td>158.0</td>\n",
       "      <td>26.0</td>\n",
       "      <td>NaN</td>\n",
       "      <td>NaN</td>\n",
       "      <td>NaN</td>\n",
       "      <td>NaN</td>\n",
       "    </tr>\n",
       "    <tr>\n",
       "      <th>1902</th>\n",
       "      <td>NaN</td>\n",
       "      <td>NaN</td>\n",
       "      <td>34.0</td>\n",
       "      <td>7.0</td>\n",
       "      <td>NaN</td>\n",
       "      <td>NaN</td>\n",
       "    </tr>\n",
       "    <tr>\n",
       "      <th>2064</th>\n",
       "      <td>NaN</td>\n",
       "      <td>28.0</td>\n",
       "      <td>7.0</td>\n",
       "      <td>NaN</td>\n",
       "      <td>NaN</td>\n",
       "      <td>NaN</td>\n",
       "    </tr>\n",
       "    <tr>\n",
       "      <th>2132</th>\n",
       "      <td>NaN</td>\n",
       "      <td>NaN</td>\n",
       "      <td>25.0</td>\n",
       "      <td>27.0</td>\n",
       "      <td>6.0</td>\n",
       "      <td>NaN</td>\n",
       "    </tr>\n",
       "    <tr>\n",
       "      <th>...</th>\n",
       "      <td>...</td>\n",
       "      <td>...</td>\n",
       "      <td>...</td>\n",
       "      <td>...</td>\n",
       "      <td>...</td>\n",
       "      <td>...</td>\n",
       "    </tr>\n",
       "    <tr>\n",
       "      <th>122004</th>\n",
       "      <td>85.0</td>\n",
       "      <td>15.0</td>\n",
       "      <td>NaN</td>\n",
       "      <td>NaN</td>\n",
       "      <td>NaN</td>\n",
       "      <td>NaN</td>\n",
       "    </tr>\n",
       "    <tr>\n",
       "      <th>122013</th>\n",
       "      <td>NaN</td>\n",
       "      <td>NaN</td>\n",
       "      <td>NaN</td>\n",
       "      <td>134.0</td>\n",
       "      <td>22.0</td>\n",
       "      <td>NaN</td>\n",
       "    </tr>\n",
       "    <tr>\n",
       "      <th>122023</th>\n",
       "      <td>NaN</td>\n",
       "      <td>NaN</td>\n",
       "      <td>NaN</td>\n",
       "      <td>53.0</td>\n",
       "      <td>15.0</td>\n",
       "      <td>NaN</td>\n",
       "    </tr>\n",
       "    <tr>\n",
       "      <th>122031</th>\n",
       "      <td>NaN</td>\n",
       "      <td>NaN</td>\n",
       "      <td>NaN</td>\n",
       "      <td>NaN</td>\n",
       "      <td>119.0</td>\n",
       "      <td>19.0</td>\n",
       "    </tr>\n",
       "    <tr>\n",
       "      <th>122078</th>\n",
       "      <td>NaN</td>\n",
       "      <td>NaN</td>\n",
       "      <td>36.0</td>\n",
       "      <td>6.0</td>\n",
       "      <td>NaN</td>\n",
       "      <td>NaN</td>\n",
       "    </tr>\n",
       "  </tbody>\n",
       "</table>\n",
       "<p>956 rows × 6 columns</p>\n",
       "</div>"
      ],
      "text/plain": [
       "date    2019-04-01  2019-04-02  2019-04-03  2019-04-04  2019-04-05  2019-04-06\n",
       "ad_id                                                                         \n",
       "2             83.0        18.0         NaN         NaN         NaN         NaN\n",
       "3            158.0        26.0         NaN         NaN         NaN         NaN\n",
       "1902           NaN         NaN        34.0         7.0         NaN         NaN\n",
       "2064           NaN        28.0         7.0         NaN         NaN         NaN\n",
       "2132           NaN         NaN        25.0        27.0         6.0         NaN\n",
       "...            ...         ...         ...         ...         ...         ...\n",
       "122004        85.0        15.0         NaN         NaN         NaN         NaN\n",
       "122013         NaN         NaN         NaN       134.0        22.0         NaN\n",
       "122023         NaN         NaN         NaN        53.0        15.0         NaN\n",
       "122031         NaN         NaN         NaN         NaN       119.0        19.0\n",
       "122078         NaN         NaN        36.0         6.0         NaN         NaN\n",
       "\n",
       "[956 rows x 6 columns]"
      ]
     },
     "execution_count": 84,
     "metadata": {},
     "output_type": "execute_result"
    }
   ],
   "source": [
    "ads_view"
   ]
  },
  {
   "cell_type": "code",
   "execution_count": 18,
   "id": "046c3b71",
   "metadata": {},
   "outputs": [],
   "source": [
    "ads_mean = ads_view.mean()\n",
    "# Посчитаем обычное среднее для каждой даты"
   ]
  },
  {
   "cell_type": "code",
   "execution_count": 19,
   "id": "13e8915b",
   "metadata": {},
   "outputs": [],
   "source": [
    "ads_mean_rolling_2 = ads_view.mean().rolling(2).mean().round(0)\n",
    "# Посчитаем скользящее среднее c окном 2 для каждой даты"
   ]
  },
  {
   "cell_type": "code",
   "execution_count": 20,
   "id": "9479235c",
   "metadata": {},
   "outputs": [
    {
     "data": {
      "text/plain": [
       "date\n",
       "2019-04-01      NaN\n",
       "2019-04-02    146.0\n",
       "2019-04-03    151.0\n",
       "2019-04-04    420.0\n",
       "2019-04-05    798.0\n",
       "2019-04-06    598.0\n",
       "dtype: float64"
      ]
     },
     "execution_count": 20,
     "metadata": {},
     "output_type": "execute_result"
    }
   ],
   "source": [
    "ads_mean_rolling_2"
   ]
  },
  {
   "cell_type": "markdown",
   "id": "23a8cbf5",
   "metadata": {},
   "source": [
    "#### Проверить: есть ли аномалии в данных? Если есть, найти их"
   ]
  },
  {
   "cell_type": "code",
   "execution_count": 37,
   "id": "8adf9020",
   "metadata": {},
   "outputs": [
    {
     "data": {
      "image/png": "[encoded data removed]",
      "text/plain": [
       "<Figure size 2000x700 with 1 Axes>"
      ]
     },
     "metadata": {},
     "output_type": "display_data"
    }
   ],
   "source": [
    "sns.lineplot(ads_mean_rolling_2, label='mean', color='red')\n",
    "sns.lineplot(ads_mean, label='rolling');"
   ]
  },
  {
   "cell_type": "code",
   "execution_count": 47,
   "id": "87bba0b4",
   "metadata": {},
   "outputs": [
    {
     "data": {
      "text/plain": [
       "date\n",
       "2019-04-01           NaN\n",
       "2019-04-02      8.213018\n",
       "2019-04-03     12.952778\n",
       "2019-04-04    255.901720\n",
       "2019-04-05    121.109677\n",
       "2019-04-06    320.877273\n",
       "dtype: float64"
      ]
     },
     "execution_count": 47,
     "metadata": {},
     "output_type": "execute_result"
    }
   ],
   "source": [
    "(ads_mean - ads_mean_rolling_2).abs()\n",
    "# абсолютная разница по модулю между скользящим средним и обычным средним"
   ]
  },
  {
   "cell_type": "code",
   "execution_count": 54,
   "id": "cb82a74c",
   "metadata": {},
   "outputs": [],
   "source": [
    "anomaly_day = (ads_mean - ads_mean_rolling_2).abs().idxmax()\n",
    "# самая большая по модулю аномалия (наиболее проблемный день)"
   ]
  },
  {
   "cell_type": "code",
   "execution_count": 74,
   "id": "fac3b574",
   "metadata": {},
   "outputs": [],
   "source": [
    "difference_value = ads_mean.subtract(ads_mean_rolling_2)[anomaly_day].round(4)\n",
    "# Проверяем знак аномалии "
   ]
  },
  {
   "cell_type": "code",
   "execution_count": 75,
   "id": "767b5b6d",
   "metadata": {},
   "outputs": [
    {
     "data": {
      "text/plain": [
       "-320.8773"
      ]
     },
     "execution_count": 75,
     "metadata": {},
     "output_type": "execute_result"
    }
   ],
   "source": [
    "difference_value"
   ]
  },
  {
   "cell_type": "code",
   "execution_count": 81,
   "id": "d38ded2f",
   "metadata": {},
   "outputs": [],
   "source": [
    "# Ищем максимальное число показов за этот день, если значение отрицательное\n",
    "if difference_value < 0:\n",
    "    anomaly_id = ads_view[anomaly_day].idxmax()\n",
    "#  Ищем минимальное число показов за этот день, если значение положительное\n",
    "else:\n",
    "    anomaly_id = ads_view[anomaly_day].idxmin()\n"
   ]
  },
  {
   "cell_type": "code",
   "execution_count": 82,
   "id": "66f062f2",
   "metadata": {},
   "outputs": [
    {
     "data": {
      "text/plain": [
       "112583"
      ]
     },
     "execution_count": 82,
     "metadata": {},
     "output_type": "execute_result"
    }
   ],
   "source": [
    "anomaly_id"
   ]
  },
  {
   "cell_type": "code",
   "execution_count": 83,
   "id": "8db45f39",
   "metadata": {},
   "outputs": [
    {
     "data": {
      "text/plain": [
       "date\n",
       "2019-04-01         NaN\n",
       "2019-04-02         NaN\n",
       "2019-04-03         NaN\n",
       "2019-04-04         NaN\n",
       "2019-04-05    302811.0\n",
       "2019-04-06     48991.0\n",
       "Name: 112583, dtype: float64"
      ]
     },
     "execution_count": 83,
     "metadata": {},
     "output_type": "execute_result"
    }
   ],
   "source": [
    "ads_view.loc[anomaly_id]"
   ]
  },
  {
   "cell_type": "code",
   "execution_count": 93,
   "id": "59629c70",
   "metadata": {},
   "outputs": [],
   "source": [
    "def anomaly_id(pivot_table_ads_view):\n",
    "    \n",
    "    \n",
    "    \n",
    "    # Для каждой даты найти свое среднее\n",
    "    ads_mean = pivot_table_ads_view.mean()\n",
    "    # Найти среднее скользящее с окном 2\n",
    "    ads_mean_rolling_2 = ads_view.mean().rolling(2).mean().round(0)\n",
    "    # Найти разность между средним и скользящим средним\n",
    "    mean_difference = ads_mean.subtract(ads_mean_rolling_2)\n",
    "    anomaly_day = mean_difference.abs().idxmax()\n",
    "    \n",
    "    \n",
    "    # Найти знак значения (отрицательное или положительная разность)\n",
    "    difference_value = mean_difference[anomaly_day].round(4) \n",
    "    \n",
    "    # Найти максимальное число показов за этот день, если значение отрицательное\n",
    "    if difference_value < 0:\n",
    "        anomaly_id = pivot_table_ads_view[anomaly_day].idxmax()\n",
    "    # Найти минимальное число показов за этот день, если значение положительное\n",
    "    else:\n",
    "        anomaly_id = pivot_table_ads_view[anomaly_day].idxmin()\n",
    "\n",
    "    \n",
    "    # Найти id\n",
    "    return anomaly_id"
   ]
  },
  {
   "cell_type": "code",
   "execution_count": 92,
   "id": "b23f95bb",
   "metadata": {},
   "outputs": [
    {
     "data": {
      "text/plain": [
       "112583"
      ]
     },
     "execution_count": 92,
     "metadata": {},
     "output_type": "execute_result"
    }
   ],
   "source": [
    "anomaly_id(ads_view)"
   ]
  },
  {
   "cell_type": "markdown",
   "id": "7ffc540b",
   "metadata": {},
   "source": [
    "#### Найти среднее количество дней от даты создания рекламного клиента и первым запуском рекламного объявления этим клиентом."
   ]
  },
  {
   "cell_type": "code",
   "execution_count": 96,
   "id": "30e05a2b",
   "metadata": {},
   "outputs": [
    {
     "data": {
      "text/html": [
       "<div>\n",
       "<style scoped>\n",
       "    .dataframe tbody tr th:only-of-type {\n",
       "        vertical-align: middle;\n",
       "    }\n",
       "\n",
       "    .dataframe tbody tr th {\n",
       "        vertical-align: top;\n",
       "    }\n",
       "\n",
       "    .dataframe thead th {\n",
       "        text-align: right;\n",
       "    }\n",
       "</style>\n",
       "<table border=\"1\" class=\"dataframe\">\n",
       "  <thead>\n",
       "    <tr style=\"text-align: right;\">\n",
       "      <th></th>\n",
       "      <th>date</th>\n",
       "      <th>time</th>\n",
       "      <th>event</th>\n",
       "      <th>platform</th>\n",
       "      <th>ad_id</th>\n",
       "      <th>client_union_id</th>\n",
       "      <th>campaign_union_id</th>\n",
       "      <th>ad_cost_type</th>\n",
       "      <th>ad_cost</th>\n",
       "      <th>has_video</th>\n",
       "      <th>target_audience_count</th>\n",
       "      <th>create_date</th>\n",
       "    </tr>\n",
       "  </thead>\n",
       "  <tbody>\n",
       "    <tr>\n",
       "      <th>0</th>\n",
       "      <td>2019-04-01</td>\n",
       "      <td>2019-04-01 00:00:48</td>\n",
       "      <td>view</td>\n",
       "      <td>android</td>\n",
       "      <td>45061</td>\n",
       "      <td>34734</td>\n",
       "      <td>45061</td>\n",
       "      <td>CPM</td>\n",
       "      <td>200.6</td>\n",
       "      <td>0</td>\n",
       "      <td>1955269</td>\n",
       "      <td>2018-12-04</td>\n",
       "    </tr>\n",
       "    <tr>\n",
       "      <th>1</th>\n",
       "      <td>2019-04-01</td>\n",
       "      <td>2019-04-01 00:03:28</td>\n",
       "      <td>view</td>\n",
       "      <td>android</td>\n",
       "      <td>45061</td>\n",
       "      <td>34734</td>\n",
       "      <td>45061</td>\n",
       "      <td>CPM</td>\n",
       "      <td>200.6</td>\n",
       "      <td>0</td>\n",
       "      <td>1955269</td>\n",
       "      <td>2018-12-04</td>\n",
       "    </tr>\n",
       "    <tr>\n",
       "      <th>2</th>\n",
       "      <td>2019-04-01</td>\n",
       "      <td>2019-04-01 00:04:58</td>\n",
       "      <td>view</td>\n",
       "      <td>ios</td>\n",
       "      <td>45061</td>\n",
       "      <td>34734</td>\n",
       "      <td>45061</td>\n",
       "      <td>CPM</td>\n",
       "      <td>200.6</td>\n",
       "      <td>0</td>\n",
       "      <td>1955269</td>\n",
       "      <td>2018-12-04</td>\n",
       "    </tr>\n",
       "    <tr>\n",
       "      <th>3</th>\n",
       "      <td>2019-04-01</td>\n",
       "      <td>2019-04-01 00:10:23</td>\n",
       "      <td>view</td>\n",
       "      <td>ios</td>\n",
       "      <td>45061</td>\n",
       "      <td>34734</td>\n",
       "      <td>45061</td>\n",
       "      <td>CPM</td>\n",
       "      <td>200.6</td>\n",
       "      <td>0</td>\n",
       "      <td>1955269</td>\n",
       "      <td>2018-12-04</td>\n",
       "    </tr>\n",
       "    <tr>\n",
       "      <th>4</th>\n",
       "      <td>2019-04-01</td>\n",
       "      <td>2019-04-01 00:15:42</td>\n",
       "      <td>view</td>\n",
       "      <td>android</td>\n",
       "      <td>45061</td>\n",
       "      <td>34734</td>\n",
       "      <td>45061</td>\n",
       "      <td>CPM</td>\n",
       "      <td>200.6</td>\n",
       "      <td>0</td>\n",
       "      <td>1955269</td>\n",
       "      <td>2018-12-04</td>\n",
       "    </tr>\n",
       "  </tbody>\n",
       "</table>\n",
       "</div>"
      ],
      "text/plain": [
       "        date                time event platform  ad_id  client_union_id  \\\n",
       "0 2019-04-01 2019-04-01 00:00:48  view  android  45061            34734   \n",
       "1 2019-04-01 2019-04-01 00:03:28  view  android  45061            34734   \n",
       "2 2019-04-01 2019-04-01 00:04:58  view      ios  45061            34734   \n",
       "3 2019-04-01 2019-04-01 00:10:23  view      ios  45061            34734   \n",
       "4 2019-04-01 2019-04-01 00:15:42  view  android  45061            34734   \n",
       "\n",
       "   campaign_union_id ad_cost_type  ad_cost  has_video  target_audience_count  \\\n",
       "0              45061          CPM    200.6          0                1955269   \n",
       "1              45061          CPM    200.6          0                1955269   \n",
       "2              45061          CPM    200.6          0                1955269   \n",
       "3              45061          CPM    200.6          0                1955269   \n",
       "4              45061          CPM    200.6          0                1955269   \n",
       "\n",
       "  create_date  \n",
       "0  2018-12-04  \n",
       "1  2018-12-04  \n",
       "2  2018-12-04  \n",
       "3  2018-12-04  \n",
       "4  2018-12-04  "
      ]
     },
     "execution_count": 96,
     "metadata": {},
     "output_type": "execute_result"
    }
   ],
   "source": [
    "full_data = ads_data.merge(ads_clients_data.drop(columns=['date', 'community_id']))\n",
    "full_data.head()"
   ]
  },
  {
   "cell_type": "code",
   "execution_count": 107,
   "id": "348a34b6",
   "metadata": {},
   "outputs": [],
   "source": [
    "average_create_to_apply = full_data.groupby('client_union_id', as_index=False) \\\n",
    "                                    .apply(lambda group: (group.date - group.create_date).min()) \\\n",
    "                                    .mean() "
   ]
  },
  {
   "cell_type": "code",
   "execution_count": 108,
   "id": "3e7275f5",
   "metadata": {},
   "outputs": [
    {
     "data": {
      "text/plain": [
       "client_union_id                   47921.434368\n",
       "None               124 days 09:04:43.532219570\n",
       "dtype: object"
      ]
     },
     "execution_count": 108,
     "metadata": {},
     "output_type": "execute_result"
    }
   ],
   "source": [
    "average_create_to_apply"
   ]
  },
  {
   "cell_type": "markdown",
   "id": "2986665a",
   "metadata": {},
   "source": [
    "Ответ: 124 дня"
   ]
  },
  {
   "cell_type": "markdown",
   "id": "8f12096a",
   "metadata": {},
   "source": [
    "#### Вычислите конверсию из создания рекламного клиента в запуск первой рекламы в течение не более 365 дней"
   ]
  },
  {
   "cell_type": "code",
   "execution_count": 105,
   "id": "9119bd55",
   "metadata": {},
   "outputs": [],
   "source": [
    "threshhol = pd.to_timedelta(365, unit='d')"
   ]
  },
  {
   "cell_type": "code",
   "execution_count": 118,
   "id": "def80ad4",
   "metadata": {},
   "outputs": [],
   "source": [
    "average_create = full_data.groupby('client_union_id') \\\n",
    "                          .apply(lambda group: (group.date - group.create_date).min()) "
   ]
  },
  {
   "cell_type": "code",
   "execution_count": 123,
   "id": "e7f542b0",
   "metadata": {},
   "outputs": [],
   "source": [
    "average_create = average_create.loc[average_create < threshhol]"
   ]
  },
  {
   "cell_type": "code",
   "execution_count": 132,
   "id": "bdff31cd",
   "metadata": {},
   "outputs": [],
   "source": [
    "count_account = ads_clients_data.client_union_id.nunique()\n"
   ]
  },
  {
   "cell_type": "code",
   "execution_count": 135,
   "id": "b2e2da62",
   "metadata": {},
   "outputs": [
    {
     "data": {
      "text/plain": [
       "0.69"
      ]
     },
     "execution_count": 135,
     "metadata": {},
     "output_type": "execute_result"
    }
   ],
   "source": [
    "round(average_create.shape[0] / count_account * 100, 2)"
   ]
  },
  {
   "cell_type": "markdown",
   "id": "0b9f1a86",
   "metadata": {},
   "source": [
    "Вывод: конверсия меньше 1%"
   ]
  },
  {
   "cell_type": "markdown",
   "id": "3de0e50a",
   "metadata": {},
   "source": [
    "#### Определите, сколько уникальных клиентов запустили свое первое объявление в первый месяц своего существования (от 0 до 30 дней)."
   ]
  },
  {
   "cell_type": "code",
   "execution_count": 137,
   "id": "daad51c5",
   "metadata": {},
   "outputs": [],
   "source": [
    "bins = [pd.to_timedelta('0d'),\n",
    "        pd.to_timedelta('30d'),\n",
    "        pd.to_timedelta('90d'),\n",
    "        pd.to_timedelta('180d'),\n",
    "        pd.to_timedelta('365d')]\n"
   ]
  },
  {
   "cell_type": "code",
   "execution_count": 138,
   "id": "ee6162dc",
   "metadata": {},
   "outputs": [],
   "source": [
    "labels = ['less than 30 days',\n",
    "         '30-90 days',\n",
    "         '90-180 days',\n",
    "         '180-365 days']"
   ]
  },
  {
   "cell_type": "code",
   "execution_count": 141,
   "id": "a26b84c1",
   "metadata": {},
   "outputs": [],
   "source": [
    "category_create = pd.cut(average_create, bins=bins, labels=labels)"
   ]
  },
  {
   "cell_type": "code",
   "execution_count": 143,
   "id": "1d9a8a64",
   "metadata": {},
   "outputs": [
    {
     "data": {
      "text/plain": [
       "90-180 days          396\n",
       "30-90 days           263\n",
       "180-365 days         168\n",
       "less than 30 days     11\n",
       "dtype: int64"
      ]
     },
     "execution_count": 143,
     "metadata": {},
     "output_type": "execute_result"
    }
   ],
   "source": [
    "category_create.value_counts()"
   ]
  },
  {
   "cell_type": "markdown",
   "id": "1419cb50",
   "metadata": {},
   "source": [
    "Ответ: 263"
   ]
  },
  {
   "cell_type": "code",
   "execution_count": 153,
   "id": "c2def535",
   "metadata": {},
   "outputs": [
    {
     "data": {
      "application/vnd.plotly.v1+json": {
       "config": {
        "plotlyServerURL": "https://plot.ly"
       },
       "data": [
        {
         "alignmentgroup": "True",
         "hovertemplate": "variable=0<br>index=%{x}<br>value=%{y}<extra></extra>",
         "legendgroup": "0",
         "marker": {
          "color": "purple",
          "pattern": {
           "shape": ""
          }
         },
         "name": "0",
         "offsetgroup": "0",
         "orientation": "v",
         "showlegend": true,
         "textposition": "auto",
         "type": "bar",
         "x": [
          "90-180 days",
          "30-90 days",
          "180-365 days",
          "less than 30 days"
         ],
         "xaxis": "x",
         "y": [
          396,
          263,
          168,
          11
         ],
         "yaxis": "y"
        }
       ],
       "layout": {
        "barmode": "relative",
        "legend": {
         "title": {
          "text": "variable"
         },
         "tracegroupgap": 0
        },
        "margin": {
         "t": 60
        },
        "template": {
         "data": {
          "bar": [
           {
            "error_x": {
             "color": "#2a3f5f"
            },
            "error_y": {
             "color": "#2a3f5f"
            },
            "marker": {
             "line": {
              "color": "#E5ECF6",
              "width": 0.5
             },
             "pattern": {
              "fillmode": "overlay",
              "size": 10,
              "solidity": 0.2
             }
            },
            "type": "bar"
           }
          ],
          "barpolar": [
           {
            "marker": {
             "line": {
              "color": "#E5ECF6",
              "width": 0.5
             },
             "pattern": {
              "fillmode": "overlay",
              "size": 10,
              "solidity": 0.2
             }
            },
            "type": "barpolar"
           }
          ],
          "carpet": [
           {
            "aaxis": {
             "endlinecolor": "#2a3f5f",
             "gridcolor": "white",
             "linecolor": "white",
             "minorgridcolor": "white",
             "startlinecolor": "#2a3f5f"
            },
            "baxis": {
             "endlinecolor": "#2a3f5f",
             "gridcolor": "white",
             "linecolor": "white",
             "minorgridcolor": "white",
             "startlinecolor": "#2a3f5f"
            },
            "type": "carpet"
           }
          ],
          "choropleth": [
           {
            "colorbar": {
             "outlinewidth": 0,
             "ticks": ""
            },
            "type": "choropleth"
           }
          ],
          "contour": [
           {
            "colorbar": {
             "outlinewidth": 0,
             "ticks": ""
            },
            "colorscale": [
             [
              0,
              "#0d0887"
             ],
             [
              0.1111111111111111,
              "#46039f"
             ],
             [
              0.2222222222222222,
              "#7201a8"
             ],
             [
              0.3333333333333333,
              "#9c179e"
             ],
             [
              0.4444444444444444,
              "#bd3786"
             ],
             [
              0.5555555555555556,
              "#d8576b"
             ],
             [
              0.6666666666666666,
              "#ed7953"
             ],
             [
              0.7777777777777778,
              "#fb9f3a"
             ],
             [
              0.8888888888888888,
              "#fdca26"
             ],
             [
              1,
              "#f0f921"
             ]
            ],
            "type": "contour"
           }
          ],
          "contourcarpet": [
           {
            "colorbar": {
             "outlinewidth": 0,
             "ticks": ""
            },
            "type": "contourcarpet"
           }
          ],
          "heatmap": [
           {
            "colorbar": {
             "outlinewidth": 0,
             "ticks": ""
            },
            "colorscale": [
             [
              0,
              "#0d0887"
             ],
             [
              0.1111111111111111,
              "#46039f"
             ],
             [
              0.2222222222222222,
              "#7201a8"
             ],
             [
              0.3333333333333333,
              "#9c179e"
             ],
             [
              0.4444444444444444,
              "#bd3786"
             ],
             [
              0.5555555555555556,
              "#d8576b"
             ],
             [
              0.6666666666666666,
              "#ed7953"
             ],
             [
              0.7777777777777778,
              "#fb9f3a"
             ],
             [
              0.8888888888888888,
              "#fdca26"
             ],
             [
              1,
              "#f0f921"
             ]
            ],
            "type": "heatmap"
           }
          ],
          "heatmapgl": [
           {
            "colorbar": {
             "outlinewidth": 0,
             "ticks": ""
            },
            "colorscale": [
             [
              0,
              "#0d0887"
             ],
             [
              0.1111111111111111,
              "#46039f"
             ],
             [
              0.2222222222222222,
              "#7201a8"
             ],
             [
              0.3333333333333333,
              "#9c179e"
             ],
             [
              0.4444444444444444,
              "#bd3786"
             ],
             [
              0.5555555555555556,
              "#d8576b"
             ],
             [
              0.6666666666666666,
              "#ed7953"
             ],
             [
              0.7777777777777778,
              "#fb9f3a"
             ],
             [
              0.8888888888888888,
              "#fdca26"
             ],
             [
              1,
              "#f0f921"
             ]
            ],
            "type": "heatmapgl"
           }
          ],
          "histogram": [
           {
            "marker": {
             "pattern": {
              "fillmode": "overlay",
              "size": 10,
              "solidity": 0.2
             }
            },
            "type": "histogram"
           }
          ],
          "histogram2d": [
           {
            "colorbar": {
             "outlinewidth": 0,
             "ticks": ""
            },
            "colorscale": [
             [
              0,
              "#0d0887"
             ],
             [
              0.1111111111111111,
              "#46039f"
             ],
             [
              0.2222222222222222,
              "#7201a8"
             ],
             [
              0.3333333333333333,
              "#9c179e"
             ],
             [
              0.4444444444444444,
              "#bd3786"
             ],
             [
              0.5555555555555556,
              "#d8576b"
             ],
             [
              0.6666666666666666,
              "#ed7953"
             ],
             [
              0.7777777777777778,
              "#fb9f3a"
             ],
             [
              0.8888888888888888,
              "#fdca26"
             ],
             [
              1,
              "#f0f921"
             ]
            ],
            "type": "histogram2d"
           }
          ],
          "histogram2dcontour": [
           {
            "colorbar": {
             "outlinewidth": 0,
             "ticks": ""
            },
            "colorscale": [
             [
              0,
              "#0d0887"
             ],
             [
              0.1111111111111111,
              "#46039f"
             ],
             [
              0.2222222222222222,
              "#7201a8"
             ],
             [
              0.3333333333333333,
              "#9c179e"
             ],
             [
              0.4444444444444444,
              "#bd3786"
             ],
             [
              0.5555555555555556,
              "#d8576b"
             ],
             [
              0.6666666666666666,
              "#ed7953"
             ],
             [
              0.7777777777777778,
              "#fb9f3a"
             ],
             [
              0.8888888888888888,
              "#fdca26"
             ],
             [
              1,
              "#f0f921"
             ]
            ],
            "type": "histogram2dcontour"
           }
          ],
          "mesh3d": [
           {
            "colorbar": {
             "outlinewidth": 0,
             "ticks": ""
            },
            "type": "mesh3d"
           }
          ],
          "parcoords": [
           {
            "line": {
             "colorbar": {
              "outlinewidth": 0,
              "ticks": ""
             }
            },
            "type": "parcoords"
           }
          ],
          "pie": [
           {
            "automargin": true,
            "type": "pie"
           }
          ],
          "scatter": [
           {
            "fillpattern": {
             "fillmode": "overlay",
             "size": 10,
             "solidity": 0.2
            },
            "type": "scatter"
           }
          ],
          "scatter3d": [
           {
            "line": {
             "colorbar": {
              "outlinewidth": 0,
              "ticks": ""
             }
            },
            "marker": {
             "colorbar": {
              "outlinewidth": 0,
              "ticks": ""
             }
            },
            "type": "scatter3d"
           }
          ],
          "scattercarpet": [
           {
            "marker": {
             "colorbar": {
              "outlinewidth": 0,
              "ticks": ""
             }
            },
            "type": "scattercarpet"
           }
          ],
          "scattergeo": [
           {
            "marker": {
             "colorbar": {
              "outlinewidth": 0,
              "ticks": ""
             }
            },
            "type": "scattergeo"
           }
          ],
          "scattergl": [
           {
            "marker": {
             "colorbar": {
              "outlinewidth": 0,
              "ticks": ""
             }
            },
            "type": "scattergl"
           }
          ],
          "scattermapbox": [
           {
            "marker": {
             "colorbar": {
              "outlinewidth": 0,
              "ticks": ""
             }
            },
            "type": "scattermapbox"
           }
          ],
          "scatterpolar": [
           {
            "marker": {
             "colorbar": {
              "outlinewidth": 0,
              "ticks": ""
             }
            },
            "type": "scatterpolar"
           }
          ],
          "scatterpolargl": [
           {
            "marker": {
             "colorbar": {
              "outlinewidth": 0,
              "ticks": ""
             }
            },
            "type": "scatterpolargl"
           }
          ],
          "scatterternary": [
           {
            "marker": {
             "colorbar": {
              "outlinewidth": 0,
              "ticks": ""
             }
            },
            "type": "scatterternary"
           }
          ],
          "surface": [
           {
            "colorbar": {
             "outlinewidth": 0,
             "ticks": ""
            },
            "colorscale": [
             [
              0,
              "#0d0887"
             ],
             [
              0.1111111111111111,
              "#46039f"
             ],
             [
              0.2222222222222222,
              "#7201a8"
             ],
             [
              0.3333333333333333,
              "#9c179e"
             ],
             [
              0.4444444444444444,
              "#bd3786"
             ],
             [
              0.5555555555555556,
              "#d8576b"
             ],
             [
              0.6666666666666666,
              "#ed7953"
             ],
             [
              0.7777777777777778,
              "#fb9f3a"
             ],
             [
              0.8888888888888888,
              "#fdca26"
             ],
             [
              1,
              "#f0f921"
             ]
            ],
            "type": "surface"
           }
          ],
          "table": [
           {
            "cells": {
             "fill": {
              "color": "#EBF0F8"
             },
             "line": {
              "color": "white"
             }
            },
            "header": {
             "fill": {
              "color": "#C8D4E3"
             },
             "line": {
              "color": "white"
             }
            },
            "type": "table"
           }
          ]
         },
         "layout": {
          "annotationdefaults": {
           "arrowcolor": "#2a3f5f",
           "arrowhead": 0,
           "arrowwidth": 1
          },
          "autotypenumbers": "strict",
          "coloraxis": {
           "colorbar": {
            "outlinewidth": 0,
            "ticks": ""
           }
          },
          "colorscale": {
           "diverging": [
            [
             0,
             "#8e0152"
            ],
            [
             0.1,
             "#c51b7d"
            ],
            [
             0.2,
             "#de77ae"
            ],
            [
             0.3,
             "#f1b6da"
            ],
            [
             0.4,
             "#fde0ef"
            ],
            [
             0.5,
             "#f7f7f7"
            ],
            [
             0.6,
             "#e6f5d0"
            ],
            [
             0.7,
             "#b8e186"
            ],
            [
             0.8,
             "#7fbc41"
            ],
            [
             0.9,
             "#4d9221"
            ],
            [
             1,
             "#276419"
            ]
           ],
           "sequential": [
            [
             0,
             "#0d0887"
            ],
            [
             0.1111111111111111,
             "#46039f"
            ],
            [
             0.2222222222222222,
             "#7201a8"
            ],
            [
             0.3333333333333333,
             "#9c179e"
            ],
            [
             0.4444444444444444,
             "#bd3786"
            ],
            [
             0.5555555555555556,
             "#d8576b"
            ],
            [
             0.6666666666666666,
             "#ed7953"
            ],
            [
             0.7777777777777778,
             "#fb9f3a"
            ],
            [
             0.8888888888888888,
             "#fdca26"
            ],
            [
             1,
             "#f0f921"
            ]
           ],
           "sequentialminus": [
            [
             0,
             "#0d0887"
            ],
            [
             0.1111111111111111,
             "#46039f"
            ],
            [
             0.2222222222222222,
             "#7201a8"
            ],
            [
             0.3333333333333333,
             "#9c179e"
            ],
            [
             0.4444444444444444,
             "#bd3786"
            ],
            [
             0.5555555555555556,
             "#d8576b"
            ],
            [
             0.6666666666666666,
             "#ed7953"
            ],
            [
             0.7777777777777778,
             "#fb9f3a"
            ],
            [
             0.8888888888888888,
             "#fdca26"
            ],
            [
             1,
             "#f0f921"
            ]
           ]
          },
          "colorway": [
           "#636efa",
           "#EF553B",
           "#00cc96",
           "#ab63fa",
           "#FFA15A",
           "#19d3f3",
           "#FF6692",
           "#B6E880",
           "#FF97FF",
           "#FECB52"
          ],
          "font": {
           "color": "#2a3f5f"
          },
          "geo": {
           "bgcolor": "white",
           "lakecolor": "white",
           "landcolor": "#E5ECF6",
           "showlakes": true,
           "showland": true,
           "subunitcolor": "white"
          },
          "hoverlabel": {
           "align": "left"
          },
          "hovermode": "closest",
          "mapbox": {
           "style": "light"
          },
          "paper_bgcolor": "white",
          "plot_bgcolor": "#E5ECF6",
          "polar": {
           "angularaxis": {
            "gridcolor": "white",
            "linecolor": "white",
            "ticks": ""
           },
           "bgcolor": "#E5ECF6",
           "radialaxis": {
            "gridcolor": "white",
            "linecolor": "white",
            "ticks": ""
           }
          },
          "scene": {
           "xaxis": {
            "backgroundcolor": "#E5ECF6",
            "gridcolor": "white",
            "gridwidth": 2,
            "linecolor": "white",
            "showbackground": true,
            "ticks": "",
            "zerolinecolor": "white"
           },
           "yaxis": {
            "backgroundcolor": "#E5ECF6",
            "gridcolor": "white",
            "gridwidth": 2,
            "linecolor": "white",
            "showbackground": true,
            "ticks": "",
            "zerolinecolor": "white"
           },
           "zaxis": {
            "backgroundcolor": "#E5ECF6",
            "gridcolor": "white",
            "gridwidth": 2,
            "linecolor": "white",
            "showbackground": true,
            "ticks": "",
            "zerolinecolor": "white"
           }
          },
          "shapedefaults": {
           "line": {
            "color": "#2a3f5f"
           }
          },
          "ternary": {
           "aaxis": {
            "gridcolor": "white",
            "linecolor": "white",
            "ticks": ""
           },
           "baxis": {
            "gridcolor": "white",
            "linecolor": "white",
            "ticks": ""
           },
           "bgcolor": "#E5ECF6",
           "caxis": {
            "gridcolor": "white",
            "linecolor": "white",
            "ticks": ""
           }
          },
          "title": {
           "x": 0.05
          },
          "xaxis": {
           "automargin": true,
           "gridcolor": "white",
           "linecolor": "white",
           "ticks": "",
           "title": {
            "standoff": 15
           },
           "zerolinecolor": "white",
           "zerolinewidth": 2
          },
          "yaxis": {
           "automargin": true,
           "gridcolor": "white",
           "linecolor": "white",
           "ticks": "",
           "title": {
            "standoff": 15
           },
           "zerolinecolor": "white",
           "zerolinewidth": 2
          }
         }
        },
        "xaxis": {
         "anchor": "y",
         "domain": [
          0,
          1
         ],
         "title": {
          "text": "index"
         }
        },
        "yaxis": {
         "anchor": "x",
         "domain": [
          0,
          1
         ],
         "title": {
          "text": "value"
         }
        }
       }
      },
      "text/html": [
       "<div>                            <div id=\"97d7b84d-142b-4b06-a4df-6426205bd8d3\" class=\"plotly-graph-div\" style=\"height:525px; width:100%;\"></div>            <script type=\"text/javascript\">                require([\"plotly\"], function(Plotly) {                    window.PLOTLYENV=window.PLOTLYENV || {};                                    if (document.getElementById(\"97d7b84d-142b-4b06-a4df-6426205bd8d3\")) {                    Plotly.newPlot(                        \"97d7b84d-142b-4b06-a4df-6426205bd8d3\",                        [{\"alignmentgroup\":\"True\",\"hovertemplate\":\"variable=0<br>index=%{x}<br>value=%{y}<extra></extra>\",\"legendgroup\":\"0\",\"marker\":{\"color\":\"purple\",\"pattern\":{\"shape\":\"\"}},\"name\":\"0\",\"offsetgroup\":\"0\",\"orientation\":\"v\",\"showlegend\":true,\"textposition\":\"auto\",\"x\":[\"90-180 days\",\"30-90 days\",\"180-365 days\",\"less than 30 days\"],\"xaxis\":\"x\",\"y\":[396,263,168,11],\"yaxis\":\"y\",\"type\":\"bar\"}],                        {\"template\":{\"data\":{\"histogram2dcontour\":[{\"type\":\"histogram2dcontour\",\"colorbar\":{\"outlinewidth\":0,\"ticks\":\"\"},\"colorscale\":[[0.0,\"#0d0887\"],[0.1111111111111111,\"#46039f\"],[0.2222222222222222,\"#7201a8\"],[0.3333333333333333,\"#9c179e\"],[0.4444444444444444,\"#bd3786\"],[0.5555555555555556,\"#d8576b\"],[0.6666666666666666,\"#ed7953\"],[0.7777777777777778,\"#fb9f3a\"],[0.8888888888888888,\"#fdca26\"],[1.0,\"#f0f921\"]]}],\"choropleth\":[{\"type\":\"choropleth\",\"colorbar\":{\"outlinewidth\":0,\"ticks\":\"\"}}],\"histogram2d\":[{\"type\":\"histogram2d\",\"colorbar\":{\"outlinewidth\":0,\"ticks\":\"\"},\"colorscale\":[[0.0,\"#0d0887\"],[0.1111111111111111,\"#46039f\"],[0.2222222222222222,\"#7201a8\"],[0.3333333333333333,\"#9c179e\"],[0.4444444444444444,\"#bd3786\"],[0.5555555555555556,\"#d8576b\"],[0.6666666666666666,\"#ed7953\"],[0.7777777777777778,\"#fb9f3a\"],[0.8888888888888888,\"#fdca26\"],[1.0,\"#f0f921\"]]}],\"heatmap\":[{\"type\":\"heatmap\",\"colorbar\":{\"outlinewidth\":0,\"ticks\":\"\"},\"colorscale\":[[0.0,\"#0d0887\"],[0.1111111111111111,\"#46039f\"],[0.2222222222222222,\"#7201a8\"],[0.3333333333333333,\"#9c179e\"],[0.4444444444444444,\"#bd3786\"],[0.5555555555555556,\"#d8576b\"],[0.6666666666666666,\"#ed7953\"],[0.7777777777777778,\"#fb9f3a\"],[0.8888888888888888,\"#fdca26\"],[1.0,\"#f0f921\"]]}],\"heatmapgl\":[{\"type\":\"heatmapgl\",\"colorbar\":{\"outlinewidth\":0,\"ticks\":\"\"},\"colorscale\":[[0.0,\"#0d0887\"],[0.1111111111111111,\"#46039f\"],[0.2222222222222222,\"#7201a8\"],[0.3333333333333333,\"#9c179e\"],[0.4444444444444444,\"#bd3786\"],[0.5555555555555556,\"#d8576b\"],[0.6666666666666666,\"#ed7953\"],[0.7777777777777778,\"#fb9f3a\"],[0.8888888888888888,\"#fdca26\"],[1.0,\"#f0f921\"]]}],\"contourcarpet\":[{\"type\":\"contourcarpet\",\"colorbar\":{\"outlinewidth\":0,\"ticks\":\"\"}}],\"contour\":[{\"type\":\"contour\",\"colorbar\":{\"outlinewidth\":0,\"ticks\":\"\"},\"colorscale\":[[0.0,\"#0d0887\"],[0.1111111111111111,\"#46039f\"],[0.2222222222222222,\"#7201a8\"],[0.3333333333333333,\"#9c179e\"],[0.4444444444444444,\"#bd3786\"],[0.5555555555555556,\"#d8576b\"],[0.6666666666666666,\"#ed7953\"],[0.7777777777777778,\"#fb9f3a\"],[0.8888888888888888,\"#fdca26\"],[1.0,\"#f0f921\"]]}],\"surface\":[{\"type\":\"surface\",\"colorbar\":{\"outlinewidth\":0,\"ticks\":\"\"},\"colorscale\":[[0.0,\"#0d0887\"],[0.1111111111111111,\"#46039f\"],[0.2222222222222222,\"#7201a8\"],[0.3333333333333333,\"#9c179e\"],[0.4444444444444444,\"#bd3786\"],[0.5555555555555556,\"#d8576b\"],[0.6666666666666666,\"#ed7953\"],[0.7777777777777778,\"#fb9f3a\"],[0.8888888888888888,\"#fdca26\"],[1.0,\"#f0f921\"]]}],\"mesh3d\":[{\"type\":\"mesh3d\",\"colorbar\":{\"outlinewidth\":0,\"ticks\":\"\"}}],\"scatter\":[{\"fillpattern\":{\"fillmode\":\"overlay\",\"size\":10,\"solidity\":0.2},\"type\":\"scatter\"}],\"parcoords\":[{\"type\":\"parcoords\",\"line\":{\"colorbar\":{\"outlinewidth\":0,\"ticks\":\"\"}}}],\"scatterpolargl\":[{\"type\":\"scatterpolargl\",\"marker\":{\"colorbar\":{\"outlinewidth\":0,\"ticks\":\"\"}}}],\"bar\":[{\"error_x\":{\"color\":\"#2a3f5f\"},\"error_y\":{\"color\":\"#2a3f5f\"},\"marker\":{\"line\":{\"color\":\"#E5ECF6\",\"width\":0.5},\"pattern\":{\"fillmode\":\"overlay\",\"size\":10,\"solidity\":0.2}},\"type\":\"bar\"}],\"scattergeo\":[{\"type\":\"scattergeo\",\"marker\":{\"colorbar\":{\"outlinewidth\":0,\"ticks\":\"\"}}}],\"scatterpolar\":[{\"type\":\"scatterpolar\",\"marker\":{\"colorbar\":{\"outlinewidth\":0,\"ticks\":\"\"}}}],\"histogram\":[{\"marker\":{\"pattern\":{\"fillmode\":\"overlay\",\"size\":10,\"solidity\":0.2}},\"type\":\"histogram\"}],\"scattergl\":[{\"type\":\"scattergl\",\"marker\":{\"colorbar\":{\"outlinewidth\":0,\"ticks\":\"\"}}}],\"scatter3d\":[{\"type\":\"scatter3d\",\"line\":{\"colorbar\":{\"outlinewidth\":0,\"ticks\":\"\"}},\"marker\":{\"colorbar\":{\"outlinewidth\":0,\"ticks\":\"\"}}}],\"scattermapbox\":[{\"type\":\"scattermapbox\",\"marker\":{\"colorbar\":{\"outlinewidth\":0,\"ticks\":\"\"}}}],\"scatterternary\":[{\"type\":\"scatterternary\",\"marker\":{\"colorbar\":{\"outlinewidth\":0,\"ticks\":\"\"}}}],\"scattercarpet\":[{\"type\":\"scattercarpet\",\"marker\":{\"colorbar\":{\"outlinewidth\":0,\"ticks\":\"\"}}}],\"carpet\":[{\"aaxis\":{\"endlinecolor\":\"#2a3f5f\",\"gridcolor\":\"white\",\"linecolor\":\"white\",\"minorgridcolor\":\"white\",\"startlinecolor\":\"#2a3f5f\"},\"baxis\":{\"endlinecolor\":\"#2a3f5f\",\"gridcolor\":\"white\",\"linecolor\":\"white\",\"minorgridcolor\":\"white\",\"startlinecolor\":\"#2a3f5f\"},\"type\":\"carpet\"}],\"table\":[{\"cells\":{\"fill\":{\"color\":\"#EBF0F8\"},\"line\":{\"color\":\"white\"}},\"header\":{\"fill\":{\"color\":\"#C8D4E3\"},\"line\":{\"color\":\"white\"}},\"type\":\"table\"}],\"barpolar\":[{\"marker\":{\"line\":{\"color\":\"#E5ECF6\",\"width\":0.5},\"pattern\":{\"fillmode\":\"overlay\",\"size\":10,\"solidity\":0.2}},\"type\":\"barpolar\"}],\"pie\":[{\"automargin\":true,\"type\":\"pie\"}]},\"layout\":{\"autotypenumbers\":\"strict\",\"colorway\":[\"#636efa\",\"#EF553B\",\"#00cc96\",\"#ab63fa\",\"#FFA15A\",\"#19d3f3\",\"#FF6692\",\"#B6E880\",\"#FF97FF\",\"#FECB52\"],\"font\":{\"color\":\"#2a3f5f\"},\"hovermode\":\"closest\",\"hoverlabel\":{\"align\":\"left\"},\"paper_bgcolor\":\"white\",\"plot_bgcolor\":\"#E5ECF6\",\"polar\":{\"bgcolor\":\"#E5ECF6\",\"angularaxis\":{\"gridcolor\":\"white\",\"linecolor\":\"white\",\"ticks\":\"\"},\"radialaxis\":{\"gridcolor\":\"white\",\"linecolor\":\"white\",\"ticks\":\"\"}},\"ternary\":{\"bgcolor\":\"#E5ECF6\",\"aaxis\":{\"gridcolor\":\"white\",\"linecolor\":\"white\",\"ticks\":\"\"},\"baxis\":{\"gridcolor\":\"white\",\"linecolor\":\"white\",\"ticks\":\"\"},\"caxis\":{\"gridcolor\":\"white\",\"linecolor\":\"white\",\"ticks\":\"\"}},\"coloraxis\":{\"colorbar\":{\"outlinewidth\":0,\"ticks\":\"\"}},\"colorscale\":{\"sequential\":[[0.0,\"#0d0887\"],[0.1111111111111111,\"#46039f\"],[0.2222222222222222,\"#7201a8\"],[0.3333333333333333,\"#9c179e\"],[0.4444444444444444,\"#bd3786\"],[0.5555555555555556,\"#d8576b\"],[0.6666666666666666,\"#ed7953\"],[0.7777777777777778,\"#fb9f3a\"],[0.8888888888888888,\"#fdca26\"],[1.0,\"#f0f921\"]],\"sequentialminus\":[[0.0,\"#0d0887\"],[0.1111111111111111,\"#46039f\"],[0.2222222222222222,\"#7201a8\"],[0.3333333333333333,\"#9c179e\"],[0.4444444444444444,\"#bd3786\"],[0.5555555555555556,\"#d8576b\"],[0.6666666666666666,\"#ed7953\"],[0.7777777777777778,\"#fb9f3a\"],[0.8888888888888888,\"#fdca26\"],[1.0,\"#f0f921\"]],\"diverging\":[[0,\"#8e0152\"],[0.1,\"#c51b7d\"],[0.2,\"#de77ae\"],[0.3,\"#f1b6da\"],[0.4,\"#fde0ef\"],[0.5,\"#f7f7f7\"],[0.6,\"#e6f5d0\"],[0.7,\"#b8e186\"],[0.8,\"#7fbc41\"],[0.9,\"#4d9221\"],[1,\"#276419\"]]},\"xaxis\":{\"gridcolor\":\"white\",\"linecolor\":\"white\",\"ticks\":\"\",\"title\":{\"standoff\":15},\"zerolinecolor\":\"white\",\"automargin\":true,\"zerolinewidth\":2},\"yaxis\":{\"gridcolor\":\"white\",\"linecolor\":\"white\",\"ticks\":\"\",\"title\":{\"standoff\":15},\"zerolinecolor\":\"white\",\"automargin\":true,\"zerolinewidth\":2},\"scene\":{\"xaxis\":{\"backgroundcolor\":\"#E5ECF6\",\"gridcolor\":\"white\",\"linecolor\":\"white\",\"showbackground\":true,\"ticks\":\"\",\"zerolinecolor\":\"white\",\"gridwidth\":2},\"yaxis\":{\"backgroundcolor\":\"#E5ECF6\",\"gridcolor\":\"white\",\"linecolor\":\"white\",\"showbackground\":true,\"ticks\":\"\",\"zerolinecolor\":\"white\",\"gridwidth\":2},\"zaxis\":{\"backgroundcolor\":\"#E5ECF6\",\"gridcolor\":\"white\",\"linecolor\":\"white\",\"showbackground\":true,\"ticks\":\"\",\"zerolinecolor\":\"white\",\"gridwidth\":2}},\"shapedefaults\":{\"line\":{\"color\":\"#2a3f5f\"}},\"annotationdefaults\":{\"arrowcolor\":\"#2a3f5f\",\"arrowhead\":0,\"arrowwidth\":1},\"geo\":{\"bgcolor\":\"white\",\"landcolor\":\"#E5ECF6\",\"subunitcolor\":\"white\",\"showland\":true,\"showlakes\":true,\"lakecolor\":\"white\"},\"title\":{\"x\":0.05},\"mapbox\":{\"style\":\"light\"}}},\"xaxis\":{\"anchor\":\"y\",\"domain\":[0.0,1.0],\"title\":{\"text\":\"index\"}},\"yaxis\":{\"anchor\":\"x\",\"domain\":[0.0,1.0],\"title\":{\"text\":\"value\"}},\"legend\":{\"title\":{\"text\":\"variable\"},\"tracegroupgap\":0},\"margin\":{\"t\":60},\"barmode\":\"relative\"},                        {\"responsive\": true}                    ).then(function(){\n",
       "                            \n",
       "var gd = document.getElementById('97d7b84d-142b-4b06-a4df-6426205bd8d3');\n",
       "var x = new MutationObserver(function (mutations, observer) {{\n",
       "        var display = window.getComputedStyle(gd).display;\n",
       "        if (!display || display === 'none') {{\n",
       "            console.log([gd, 'removed!']);\n",
       "            Plotly.purge(gd);\n",
       "            observer.disconnect();\n",
       "        }}\n",
       "}});\n",
       "\n",
       "// Listen for the removal of the full notebook cells\n",
       "var notebookContainer = gd.closest('#notebook-container');\n",
       "if (notebookContainer) {{\n",
       "    x.observe(notebookContainer, {childList: true});\n",
       "}}\n",
       "\n",
       "// Listen for the clearing of the current output cell\n",
       "var outputEl = gd.closest('.output');\n",
       "if (outputEl) {{\n",
       "    x.observe(outputEl, {childList: true});\n",
       "}}\n",
       "\n",
       "                        })                };                });            </script>        </div>"
      ]
     },
     "metadata": {},
     "output_type": "display_data"
    }
   ],
   "source": [
    "fig = px.bar(category_create.value_counts(), color_discrete_sequence=[\"purple\"])\n",
    "fig"
   ]
  },
  {
   "cell_type": "code",
   "execution_count": null,
   "id": "a2578e63",
   "metadata": {},
   "outputs": [],
   "source": []
  }
 ],
 "metadata": {
  "kernelspec": {
   "display_name": "Python 3 (ipykernel)",
   "language": "python",
   "name": "python3"
  },
  "language_info": {
   "codemirror_mode": {
    "name": "ipython",
    "version": 3
   },
   "file_extension": ".py",
   "mimetype": "text/x-python",
   "name": "python",
   "nbconvert_exporter": "python",
   "pygments_lexer": "ipython3",
   "version": "3.10.9"
  }
 },
 "nbformat": 4,
 "nbformat_minor": 5
}
